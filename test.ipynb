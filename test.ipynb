{
 "cells": [
  {
   "cell_type": "code",
   "execution_count": 1,
   "metadata": {},
   "outputs": [],
   "source": [
    "%load_ext autoreload\n",
    "%autoreload 2\n",
    "\n",
    "import numpy as np\n",
    "import time\n",
    "import utils\n",
    "from utils import *\n",
    "import importlib\n",
    "import argparse\n",
    "import trader   # 파일 수정 반영"
   ]
  },
  {
   "cell_type": "code",
   "execution_count": 31,
   "metadata": {},
   "outputs": [
    {
     "name": "stdout",
     "output_type": "stream",
     "text": [
      "other_running_sym_num: 2  self.symnum: -1.0\n",
      "{'symbol': 'WUSDT', 'positionSide': 'BOTH', 'positionAmt': '-92.7', 'unrealizedProfit': '-0.05562000', 'isolatedMargin': '0', 'notional': '-19.06839000', 'isolatedWallet': '0', 'initialMargin': '1.90683900', 'maintMargin': '0.28602585', 'updateTime': '1725940832891'}\n",
      "{'symbol': 'EDUUSDT', 'positionSide': 'BOTH', 'positionAmt': '-41', 'unrealizedProfit': '-0.08200000', 'isolatedMargin': '0', 'notional': '-22.52130000', 'isolatedWallet': '0', 'initialMargin': '3.21732873', 'maintMargin': '0.33781950', 'updateTime': '1725934315496'}\n",
      "**************************************************\n",
      "wallet:10.605  lev:20 [[-60~16.0]]\n"
     ]
    }
   ],
   "source": [
    "sym = \"LISTA/USDT\"\n",
    "minion = trader.Trader(sym, 1)"
   ]
  },
  {
   "cell_type": "code",
   "execution_count": 11,
   "metadata": {},
   "outputs": [],
   "source": [
    "\n",
    "binance = minion.binance\n"
   ]
  },
  {
   "cell_type": "code",
   "execution_count": 46,
   "metadata": {},
   "outputs": [
    {
     "data": {
      "text/plain": [
       "4931376107.08"
      ]
     },
     "execution_count": 46,
     "metadata": {},
     "output_type": "execute_result"
    }
   ],
   "source": [
    "sym = \"ETHUSDT\"\n",
    "volume = list(binance.fetch_tickers(symbols=[sym]).values())[0]['quoteVolume']\n",
    "volume"
   ]
  },
  {
   "cell_type": "code",
   "execution_count": 47,
   "metadata": {},
   "outputs": [
    {
     "data": {
      "text/plain": [
       "20207756.2148"
      ]
     },
     "execution_count": 47,
     "metadata": {},
     "output_type": "execute_result"
    }
   ],
   "source": [
    "sym = \"LISTAUSDT\"\n",
    "volume = list(binance.fetch_tickers(symbols=[sym]).values())[0]['quoteVolume']\n",
    "volume"
   ]
  },
  {
   "cell_type": "code",
   "execution_count": null,
   "metadata": {},
   "outputs": [],
   "source": []
  }
 ],
 "metadata": {
  "kernelspec": {
   "display_name": "medi",
   "language": "python",
   "name": "python3"
  },
  "language_info": {
   "codemirror_mode": {
    "name": "ipython",
    "version": 3
   },
   "file_extension": ".py",
   "mimetype": "text/x-python",
   "name": "python",
   "nbconvert_exporter": "python",
   "pygments_lexer": "ipython3",
   "version": "3.8.19"
  }
 },
 "nbformat": 4,
 "nbformat_minor": 2
}
