{
 "cells": [
  {
   "cell_type": "code",
   "execution_count": null,
   "metadata": {},
   "outputs": [],
   "source": [
    "def pivot_id(ohlc, l, n1, n2):\n",
    "    \"\"\"\n",
    "    Get the pivot id \n",
    "    :params ohlc is a dataframe\n",
    "    :params l is the l'th row\n",
    "    :params n1 is the number of candles to the left\n",
    "    :params n2 is the number of candles to the right\n",
    "    :return int  \n",
    "    # \"\"\"\n",
    "    # # Check if the length conditions met\n",
    "    # if l- n1 < 0 or l+ n2 >= len(ohlc):\n",
    "    #     return 0\n",
    "    pivot_low  = 1\n",
    "    pivot_high = 1\n",
    "    try:\n",
    "        timestamp_list = [l + 60*x for x in range(-n1, n2+1)] \n",
    "        print(timestamp_list)\n",
    "        print(ohlc.index)\n",
    "        for i in timestamp_list:\n",
    "            if(ohlc.loc[l][\"close\"] > ohlc.loc[i][\"close\"]):\n",
    "                pivot_low = 0\n",
    "            if(ohlc.loc[l][\"close\"] < ohlc.loc[i][\"close\"]):\n",
    "                pivot_high = 0\n",
    "        if pivot_low and pivot_high:\n",
    "            return 3\n",
    "        elif pivot_low:\n",
    "            return 1\n",
    "        elif pivot_high:\n",
    "            return 2\n",
    "        else:\n",
    "            return 0\n",
    "    except KeyError as e:\n",
    "        print(e)\n",
    "        return 0\n",
    "\n"
   ]
  },
  {
   "cell_type": "code",
   "execution_count": null,
   "metadata": {},
   "outputs": [],
   "source": []
  }
 ],
 "metadata": {
  "language_info": {
   "name": "python"
  }
 },
 "nbformat": 4,
 "nbformat_minor": 2
}
