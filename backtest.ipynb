{
 "cells": [
  {
   "cell_type": "code",
   "execution_count": 1,
   "metadata": {},
   "outputs": [],
   "source": [
    "%load_ext autoreload\n",
    "%autoreload 2\n",
    "\n",
    "import numpy as np\n",
    "import time\n",
    "import utils\n",
    "from utils import *\n",
    "import os\n",
    "import importlib\n",
    "import argparse\n",
    "import trader   # 파일 수정 반영\n",
    "import matplotlib.pyplot as plt"
   ]
  },
  {
   "cell_type": "code",
   "execution_count": 2,
   "metadata": {},
   "outputs": [],
   "source": [
    "binance = get_binance()"
   ]
  },
  {
   "cell_type": "code",
   "execution_count": 3,
   "metadata": {},
   "outputs": [],
   "source": [
    "tf = \"1m\"\n",
    "limit = 1500\n",
    "past_df_dic = {}\n",
    "new_symlist = []\n",
    "for sym in SYMLIST[0:50]:\n",
    "    vol = await binance.fetch_tickers(symbols=[sym])\n",
    "    if (not len(list(vol.values())) > 0) or list(vol.values())[0]['quoteVolume'] < 20*(10**6):\n",
    "        continue\n",
    "    df = await past_data(binance, sym, tf, limit)\n",
    "    df[\"mean\"] = np.mean([df[\"open\"], df[\"high\"], df[\"low\"], df[\"close\"]], axis=0)\n",
    "    past_df_dic.update({sym: df})\n",
    "    new_symlist.append(sym)"
   ]
  },
  {
   "cell_type": "code",
   "execution_count": 4,
   "metadata": {},
   "outputs": [],
   "source": [
    "def bull_or_bear(df,ref=0.01):\n",
    "    m = (df['high']+df['low'])/2  # df['close']로 해도 되는데 그냥 이렇게 함\n",
    "    rising = []\n",
    "    for i in range(1, len(m)-1):\n",
    "        rising.append((m[i+1] - m[i])/m[i]*100)\n",
    "    rising_coef = np.mean(rising)\n",
    "    \n",
    "    if rising_coef > ref:\n",
    "        return \"BULL\", rising_coef\n",
    "    elif rising_coef < -ref:\n",
    "        return \"BEAR\", rising_coef\n",
    "    else:\n",
    "        return \"ZZ\", rising_coef\n",
    "    \n",
    "def inspect_market(df, block):\n",
    "    st1, score1 = bull_or_bear(df[int(block/4):])\n",
    "    st2, score2 = bull_or_bear(df)\n",
    "    score = score1+score2\n",
    "    \n",
    "    if st2 == 'BULL' and st1 == \"BULL\":\n",
    "        return LONG, score\n",
    "    elif st2 == 'BEAR' and st1 == \"BEAR\":         # 4시간동안 상승\n",
    "        return SHORT, score\n",
    "    return None, 0"
   ]
  },
  {
   "cell_type": "code",
   "execution_count": 5,
   "metadata": {},
   "outputs": [],
   "source": [
    "def select_sym(t, block):\n",
    "    max_score, min_score = 0,0\n",
    "    max_sym, min_sym = 0,0\n",
    "    for sym in new_symlist:\n",
    "        df = past_df_dic[sym][t-block:t]\n",
    "        position, score = inspect_market(df, block)\n",
    "        \n",
    "        if score > max_score:\n",
    "            max_score, max_sym = score, sym\n",
    "        elif score < min_score:\n",
    "            min_score, min_sym = score, sym\n",
    "\n",
    "    if (abs(max_score) > 0 or abs(min_score) > 0 ) and position:\n",
    "        print(f\"== MAX: {max_sym} {max_score} | MIN: {min_sym} {min_score} ==\")\n",
    "        if abs(max_score) > abs(min_score):\n",
    "            return max_sym, position\n",
    "        else:\n",
    "            return min_sym, position \n",
    "    return None, None"
   ]
  },
  {
   "cell_type": "code",
   "execution_count": 22,
   "metadata": {},
   "outputs": [],
   "source": [
    "\n",
    "def get_pnl(open_price, price):\n",
    "    return (price - open_price)/open_price\n",
    "\n",
    "def run(t, sl, tp, lev, block):\n",
    "    sym, position = select_sym(t, block)\n",
    "    if not sym and not position:\n",
    "        return 0,0,0,0,0,0\n",
    "    sym_df = past_df_dic[sym]['mean'][t:]\n",
    "\n",
    "    open_price = sym_df[0]\n",
    "    \n",
    "    for i, mean_price in enumerate(sym_df[1:]):\n",
    "        coef = 1 if position == \"Long\" else -1\n",
    "        pnl = get_pnl(open_price, mean_price) * lev * coef * 100 - 0.7\n",
    "        if pnl > tp or pnl < sl:\n",
    "            # print(open_price, mean_price, pnl, position)\n",
    "            return i+1, open_price, mean_price, pnl, sym, position\n",
    "        \n",
    "    return 0,0,0,0,0,0\n",
    "        \n",
    "def show_default_graph(df, t, time_i, open_price, close_price, position, title=\"\"):\n",
    "    plt.style.use('fivethirtyeight')\n",
    "    fig, ax = plt.subplots(figsize = (12,6))\n",
    "\n",
    "    x = len(df)\n",
    "    \n",
    "    ax.plot(range(x), df, color = (1, 0.7, 0), linewidth = 2, label='mean price')\n",
    "        \n",
    "    color = 'b' if position == 'Short' else 'r'\n",
    "    ax.add_patch(plt.Arrow(\n",
    "        t, open_price, time_i, close_price-open_price,\n",
    "        width = (close_price-open_price)*2, color=color, zorder=2, alpha=0.5\n",
    "    ))\n",
    "        \n",
    "    ax.set_xlabel('Date')\n",
    "    ax.set_ylabel('Price ($)')\n",
    "\n",
    "    ax.set_title(title)\n",
    "    os.makedirs(\"backtest_result\", exist_ok=True)\n",
    "    plt.savefig(f\"backtest_result/{t}.jpg\")\n",
    "    return ax\n",
    "\n",
    "def simul(pnls):\n",
    "    orig = 100\n",
    "    profit = 0\n",
    "    for pnl in pnls:\n",
    "        if pnl != 0:\n",
    "            # profit += orig*(pnl*0.01)\n",
    "            orig *= (1+pnl*0.01)\n",
    "    return orig+profit"
   ]
  },
  {
   "cell_type": "code",
   "execution_count": 31,
   "metadata": {},
   "outputs": [
    {
     "name": "stdout",
     "output_type": "stream",
     "text": [
      "== MAX: TIA/USDT 0.05010002523914346 | MIN: XAI/USDT -0.06843667336538295 ==\n",
      "== MAX: TIA/USDT 0.05234427120046324 | MIN: XAI/USDT -0.07230504327195952 ==\n",
      "== MAX: 0 0 | MIN: XAI/USDT -0.09069895101872046 ==\n",
      "== MAX: 0 0 | MIN: DYM/USDT -0.10438554908563914 ==\n",
      "== MAX: 0 0 | MIN: TIA/USDT -0.09268438873322199 ==\n",
      "== MAX: 0 0 | MIN: TIA/USDT -0.09375424135101063 ==\n",
      "== MAX: 0 0 | MIN: TIA/USDT -0.09949318541155563 ==\n",
      "== MAX: 0 0 | MIN: TIA/USDT -0.12067121899144233 ==\n",
      "== MAX: 0 0 | MIN: TIA/USDT -0.08548877337445127 ==\n",
      "== MAX: MANTA/USDT 0.07582436012844299 | MIN: BEAMX/USDT -0.022507207550851414 ==\n",
      "== MAX: MANTA/USDT 0.036930358107576805 | MIN: 0 0 ==\n",
      "== MAX: MANTA/USDT 0.05078656911709168 | MIN: 0 0 ==\n",
      "== MAX: PEOPLE/USDT 0.06295832210816105 | MIN: 0 0 ==\n",
      "== MAX: PEOPLE/USDT 0.07962608083891448 | MIN: 0 0 ==\n",
      "== MAX: MANTA/USDT 0.100031176281815 | MIN: 0 0 ==\n",
      "== MAX: MINA/USDT 0.1613299296567724 | MIN: 0 0 ==\n",
      "== MAX: DYM/USDT 0.13782094111189125 | MIN: 0 0 ==\n",
      "== MAX: PEOPLE/USDT 0.15980906596167638 | MIN: 0 0 ==\n",
      "== MAX: 0 0 | MIN: XAI/USDT -0.05871651584886733 ==\n",
      "== MAX: 0 0 | MIN: PEOPLE/USDT -0.08720748253097987 ==\n",
      "== MAX: PEOPLE/USDT 0.12120479591185296 | MIN: 0 0 ==\n",
      "== MAX: PEOPLE/USDT 0.10619499256019047 | MIN: 0 0 ==\n",
      "== MAX: TIA/USDT 0.09007118078916079 | MIN: 0 0 ==\n",
      "== MAX: 0 0 | MIN: ORDI/USDT -0.044110083654964986 ==\n",
      "== MAX: 0 0 | MIN: TIA/USDT -0.09499707582227022 ==\n",
      "== MAX: 0 0 | MIN: TIA/USDT -0.1460624259581304 ==\n",
      "== MAX: 0 0 | MIN: TIA/USDT -0.10059405979280325 ==\n",
      "== MAX: 0 0 | MIN: MANTA/USDT -0.08983753731688837 ==\n",
      "== MAX: 0 0 | MIN: TIA/USDT -0.0786279059575006 ==\n",
      "== MAX: PEOPLE/USDT 0.07589727094617867 | MIN: 0 0 ==\n",
      "== MAX: PEOPLE/USDT 0.1058025017602755 | MIN: 0 0 ==\n",
      "== MAX: MANTA/USDT 0.05314553437796639 | MIN: 0 0 ==\n",
      "== MAX: 0 0 | MIN: PEOPLE/USDT -0.07135265676224273 ==\n",
      "== MAX: 0 0 | MIN: ATOM/USDT -0.07674889446979755 ==\n",
      "== MAX: 0 0 | MIN: TRB/USDT -0.09429852940014907 ==\n",
      "== MAX: 0 0 | MIN: TRB/USDT -0.15245765011635015 ==\n",
      "== MAX: 0 0 | MIN: TRB/USDT -0.119506358344695 ==\n",
      "== MAX: 0 0 | MIN: ATOM/USDT -0.1181891791084845 ==\n",
      "== MAX: 0 0 | MIN: TRB/USDT -0.08507472964747784 ==\n",
      "== MAX: 0 0 | MIN: DYM/USDT -0.06560790481935981 ==\n",
      "== MAX: PEOPLE/USDT 0.07691120505678825 | MIN: 0 0 ==\n",
      "== MAX: PEOPLE/USDT 0.05719667844684294 | MIN: 0 0 ==\n",
      "== MAX: TRB/USDT 0.04240753556006767 | MIN: 0 0 ==\n",
      "== MAX: XAI/USDT 0.026697281340977083 | MIN: PEOPLE/USDT -0.02640046477613185 ==\n",
      "== MAX: LDO/USDT 0.043593312195209594 | MIN: 0 0 ==\n",
      "== MAX: PEOPLE/USDT 0.041991141138463806 | MIN: TIA/USDT -0.024623431899950202 ==\n",
      "== MAX: 0 0 | MIN: RUNE/USDT -0.05452542487900523 ==\n",
      "== MAX: 0 0 | MIN: RUNE/USDT -0.05343225121270781 ==\n",
      "== MAX: 0 0 | MIN: DYM/USDT -0.07991033059941098 ==\n",
      "== MAX: 0 0 | MIN: MINA/USDT -0.08631127096599267 ==\n",
      "== MAX: 0 0 | MIN: XAI/USDT -0.09671006756719097 ==\n",
      "== MAX: 0 0 | MIN: XAI/USDT -0.08843881477324284 ==\n",
      "== MAX: 0 0 | MIN: DYM/USDT -0.07252670731270623 ==\n",
      "== MAX: 0 0 | MIN: LDO/USDT -0.057536008726908575 ==\n",
      "== MAX: 0 0 | MIN: PEOPLE/USDT -0.062367078549835524 ==\n",
      "== MAX: ORDI/USDT 0.05280158347995794 | MIN: PEOPLE/USDT -0.038963195677337976 ==\n",
      "== MAX: ORDI/USDT 0.045517533109044446 | MIN: PEOPLE/USDT -0.03331252758684484 ==\n",
      "== MAX: 0 0 | MIN: PEOPLE/USDT -0.104185280984706 ==\n",
      "0.9649923576566793\n"
     ]
    }
   ],
   "source": [
    "sl, tp = -30, 4\n",
    "lev = 2\n",
    "pnls = []\n",
    "block = 60\n",
    "\n",
    "for t in range(block, 1500, 10):\n",
    "    time_i, open_price, close_price, pnl, sym, position = run(t, sl, tp, lev, block)\n",
    "    pnls.append(pnl)\n",
    "    # if pnl != 0:\n",
    "    #     show_default_graph(past_df_dic[sym]['mean'], t, time_i, open_price, close_price, position, title=f\"{sym}  PNL: {pnl}%\")\n",
    "        \n",
    "print(np.mean(pnls))"
   ]
  },
  {
   "cell_type": "code",
   "execution_count": 32,
   "metadata": {},
   "outputs": [
    {
     "name": "stdout",
     "output_type": "stream",
     "text": [
      "Total PNL: 138.95889950256182%,    # of good pred: 33,    bad pred: 0\n"
     ]
    },
    {
     "data": {
      "text/plain": [
       "390.03993628319654"
      ]
     },
     "execution_count": 32,
     "metadata": {},
     "output_type": "execute_result"
    }
   ],
   "source": [
    "pnls = np.array(pnls)\n",
    "print(f\"Total PNL: {np.sum(pnls)}%,    # of good pred: {np.sum(np.where(pnls>0, 1, 0))},    bad pred: {np.sum(np.where(pnls<0, 1, 0))}\")\n",
    "simul(pnls)"
   ]
  },
  {
   "cell_type": "code",
   "execution_count": null,
   "metadata": {},
   "outputs": [],
   "source": []
  },
  {
   "cell_type": "code",
   "execution_count": null,
   "metadata": {},
   "outputs": [],
   "source": []
  },
  {
   "cell_type": "code",
   "execution_count": null,
   "metadata": {},
   "outputs": [],
   "source": []
  }
 ],
 "metadata": {
  "kernelspec": {
   "display_name": "ldm",
   "language": "python",
   "name": "python3"
  },
  "language_info": {
   "codemirror_mode": {
    "name": "ipython",
    "version": 3
   },
   "file_extension": ".py",
   "mimetype": "text/x-python",
   "name": "python",
   "nbconvert_exporter": "python",
   "pygments_lexer": "ipython3",
   "version": "3.8.19"
  }
 },
 "nbformat": 4,
 "nbformat_minor": 2
}
