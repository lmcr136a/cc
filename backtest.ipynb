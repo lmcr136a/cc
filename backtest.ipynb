{
 "cells": [
  {
   "cell_type": "code",
   "execution_count": 2,
   "metadata": {},
   "outputs": [
    {
     "name": "stdout",
     "output_type": "stream",
     "text": [
      "The autoreload extension is already loaded. To reload it, use:\n",
      "  %reload_ext autoreload\n"
     ]
    }
   ],
   "source": [
    "%load_ext autoreload\n",
    "%autoreload 2\n",
    "\n",
    "import numpy as np\n",
    "import time\n",
    "import utils\n",
    "from utils import *\n",
    "import importlib\n",
    "import argparse\n",
    "import trader   # 파일 수정 반영\n",
    "import matplotlib.pyplot as plt"
   ]
  },
  {
   "cell_type": "code",
   "execution_count": 3,
   "metadata": {},
   "outputs": [],
   "source": [
    "binance = get_binance()"
   ]
  },
  {
   "cell_type": "code",
   "execution_count": 37,
   "metadata": {},
   "outputs": [],
   "source": [
    "tf = \"1m\"\n",
    "limit = 1500\n",
    "past_df_dic = {}\n",
    "new_symlist = []\n",
    "for sym in SYMLIST[0:50]:\n",
    "    vol = await binance.fetch_tickers(symbols=[sym])\n",
    "    if (not len(list(vol.values())) > 0) or list(vol.values())[0]['quoteVolume'] < 20*(10**6):\n",
    "        continue\n",
    "    df = await past_data(binance, sym, tf, limit)\n",
    "    df[\"mean\"] = np.mean([df[\"open\"], df[\"high\"], df[\"low\"], df[\"close\"]], axis=0)\n",
    "    past_df_dic.update({sym: df})\n",
    "    new_symlist.append(sym)"
   ]
  },
  {
   "cell_type": "code",
   "execution_count": 23,
   "metadata": {},
   "outputs": [],
   "source": [
    "def bull_or_bear(df,ref=0.05):\n",
    "    m = (df['high']+df['low'])/2  # df['close']로 해도 되는데 그냥 이렇게 함\n",
    "    rising = []\n",
    "    for i in range(1, len(m)-1):\n",
    "        rising.append((m[i+1] - m[i])/m[i]*100)\n",
    "    rising_coef = np.mean(rising)\n",
    "    if rising_coef > ref:\n",
    "        return \"BULL\", rising_coef\n",
    "    elif rising_coef < -ref:\n",
    "        return \"BEAR\", rising_coef\n",
    "    else:\n",
    "        return \"~-~-~\", rising_coef\n",
    "    \n",
    "def inspect_market(df, print_=True):\n",
    "    st1, score1 = bull_or_bear(df[:10])\n",
    "    st2, score2 = bull_or_bear(df)\n",
    "    score = score1+score2\n",
    "    if st1 == 'BEAR' and st2 == \"BEAR\":\n",
    "        return SHORT, score\n",
    "    elif st1 == 'BULL' and st2 == \"BULL\":         # 4시간동안 상승\n",
    "        return LONG, score\n",
    "    return None, 0"
   ]
  },
  {
   "cell_type": "code",
   "execution_count": null,
   "metadata": {},
   "outputs": [],
   "source": []
  },
  {
   "cell_type": "code",
   "execution_count": 204,
   "metadata": {},
   "outputs": [],
   "source": [
    "def select_sym(t):\n",
    "    max_score, min_score = 0,0\n",
    "    max_sym, min_sym = 0,0\n",
    "    for sym in new_symlist:\n",
    "        df = past_df_dic[sym][t-20:t]\n",
    "        position, score = inspect_market(df)\n",
    "        \n",
    "        if position == LONG and score > max_score:\n",
    "            max_score, max_sym = score, sym\n",
    "        elif position == SHORT and score < min_score:\n",
    "            min_score, min_sym = score, sym\n",
    "\n",
    "    if max_score > 0 or min_score < 0:\n",
    "        print(f\"== MAX: {max_sym} {max_score} | MIN: {min_sym} {min_score} ==\")\n",
    "        if abs(max_score) > abs(min_score):\n",
    "            return max_sym, SHORT\n",
    "        else:\n",
    "            return min_sym, LONG \n",
    "    return None, None"
   ]
  },
  {
   "cell_type": "code",
   "execution_count": 205,
   "metadata": {},
   "outputs": [],
   "source": [
    "\n",
    "def get_pnl(open_price, price):\n",
    "    return (price - open_price)/open_price\n",
    "\n",
    "def run(t, sl, tp, lev):\n",
    "    sym, position = select_sym(t)\n",
    "    if not sym and not position:\n",
    "        return 0,0,0,0,0,0\n",
    "    sym_df = past_df_dic[sym]['mean'][t:]\n",
    "\n",
    "    open_price = sym_df[0]\n",
    "    \n",
    "    for i, mean_price in enumerate(sym_df[1:]):\n",
    "        coef = 1 if position == \"Long\" else -1\n",
    "        pnl = get_pnl(open_price, mean_price) * lev * coef * 100 - 0.7\n",
    "        if pnl > tp or pnl < sl:\n",
    "            return i+1, open_price, mean_price, pnl, sym, position\n",
    "        \n",
    "    return 0,0,0,0,0,0\n",
    "        \n",
    "\n",
    "def show_default_graph(df, t, time_i, open_price, close_price, position, title=\"\"):\n",
    "    plt.style.use('fivethirtyeight')\n",
    "    fig, ax = plt.subplots(figsize = (12,6))\n",
    "\n",
    "    x = len(df)\n",
    "    \n",
    "    ax.plot(range(x), df, color = (1, 0.7, 0), linewidth = 2, label='mean price')\n",
    "        \n",
    "    color = 'b' if position == 'Short' else 'r'\n",
    "    ax.add_patch(plt.Arrow(\n",
    "        t, open_price, time_i, close_price-open_price,\n",
    "        width = (close_price-open_price)*2, color=color, zorder=2, alpha=0.5\n",
    "    ))\n",
    "        \n",
    "    ax.set_xlabel('Date')\n",
    "    ax.set_ylabel('Price ($)')\n",
    "\n",
    "    ax.set_title(title)\n",
    "    plt.savefig(f\"backtest_result/{t}.jpg\")\n",
    "    return ax\n",
    "\n",
    "def simul(pnls):\n",
    "    orig = 100\n",
    "    for pnl in pnls:\n",
    "        if pnl != 0:\n",
    "            orig *= (1+pnl*0.01)\n",
    "    return orig"
   ]
  },
  {
   "cell_type": "code",
   "execution_count": 208,
   "metadata": {},
   "outputs": [
    {
     "name": "stdout",
     "output_type": "stream",
     "text": [
      "== MAX: 0 0 | MIN: KEY/USDT -0.36286534294927486 ==\n",
      "== MAX: 0 0 | MIN: KEY/USDT -0.26142280652987476 ==\n",
      "== MAX: 0 0 | MIN: BEAMX/USDT -0.21932519323036115 ==\n",
      "== MAX: 0 0 | MIN: KEY/USDT -0.23620871932260867 ==\n",
      "== MAX: 0 0 | MIN: TIA/USDT -0.21795081151675244 ==\n",
      "== MAX: 0 0 | MIN: ORDI/USDT -0.22653542574711266 ==\n",
      "== MAX: AXL/USDT 0.2663992580531277 | MIN: KEY/USDT -0.561414331427087 ==\n",
      "== MAX: AXL/USDT 0.24998609510520886 | MIN: KEY/USDT -0.14838454230409814 ==\n",
      "== MAX: TIA/USDT 0.2672073611564185 | MIN: 0 0 ==\n",
      "== MAX: TIA/USDT 0.18365097195840818 | MIN: 0 0 ==\n",
      "== MAX: AXL/USDT 0.20704493174583577 | MIN: 0 0 ==\n",
      "== MAX: KEY/USDT 0.34022924224962336 | MIN: AXL/USDT -0.11974235281521793 ==\n",
      "== MAX: AXL/USDT 0.13527742974209417 | MIN: 0 0 ==\n",
      "== MAX: SXP/USDT 0.3091138305347294 | MIN: 0 0 ==\n",
      "== MAX: SXP/USDT 0.4078899518419965 | MIN: 0 0 ==\n",
      "== MAX: 0 0 | MIN: MANTA/USDT -0.20626803898696638 ==\n",
      "== MAX: 0 0 | MIN: MANTA/USDT -0.25749962986495467 ==\n",
      "== MAX: 0 0 | MIN: AXL/USDT -0.1364694289893834 ==\n",
      "== MAX: 0 0 | MIN: TIA/USDT -0.14348476291347395 ==\n",
      "== MAX: MANTA/USDT 0.1458771396161259 | MIN: 0 0 ==\n",
      "== MAX: 0 0 | MIN: TIA/USDT -0.1954816068462048 ==\n",
      "== MAX: TRB/USDT 0.1083363056460733 | MIN: 0 0 ==\n",
      "== MAX: 0 0 | MIN: TIA/USDT -0.24173522034731865 ==\n",
      "== MAX: MINA/USDT 0.1295464203958913 | MIN: 0 0 ==\n",
      "== MAX: TRB/USDT 0.1971552506679205 | MIN: 0 0 ==\n",
      "== MAX: AXL/USDT 0.23764427677705083 | MIN: 0 0 ==\n",
      "== MAX: 0 0 | MIN: XAI/USDT -0.23604556644997002 ==\n",
      "== MAX: 0 0 | MIN: ATOM/USDT -0.23497937628966958 ==\n",
      "== MAX: 0 0 | MIN: TIA/USDT -0.3148542496588915 ==\n",
      "== MAX: 0 0 | MIN: PEOPLE/USDT -0.2436755644582838 ==\n",
      "== MAX: 0 0 | MIN: TIA/USDT -0.19665623235828025 ==\n",
      "== MAX: 0 0 | MIN: KEY/USDT -0.2125853641425972 ==\n",
      "== MAX: ORDI/USDT 0.1256136546176048 | MIN: 0 0 ==\n",
      "== MAX: ORDI/USDT 0.3620258506811658 | MIN: 0 0 ==\n",
      "== MAX: PEOPLE/USDT 0.28184070726296867 | MIN: 0 0 ==\n",
      "== MAX: 0 0 | MIN: PEOPLE/USDT -0.2743763274273592 ==\n",
      "== MAX: 0 0 | MIN: ORDI/USDT -0.2727630838581584 ==\n",
      "== MAX: MANTA/USDT 0.14033493352954265 | MIN: 0 0 ==\n",
      "== MAX: DYM/USDT 0.2795857707514753 | MIN: 0 0 ==\n",
      "== MAX: TIA/USDT 0.2275875496195676 | MIN: 0 0 ==\n",
      "== MAX: 0 0 | MIN: TIA/USDT -0.19930273817808675 ==\n",
      "== MAX: PEOPLE/USDT 0.2047268355534697 | MIN: 0 0 ==\n",
      "== MAX: 0 0 | MIN: DYM/USDT -0.19905150875912442 ==\n",
      "== MAX: KEY/USDT 0.17405344538159814 | MIN: 0 0 ==\n",
      "== MAX: TIA/USDT 0.24492886608616418 | MIN: 0 0 ==\n",
      "== MAX: CRV/USDT 0.15251102692255059 | MIN: 0 0 ==\n",
      "== MAX: 0 0 | MIN: TIA/USDT -0.17257849625589664 ==\n",
      "== MAX: KEY/USDT 0.2328760348714352 | MIN: 0 0 ==\n",
      "== MAX: BEAMX/USDT 0.12436983164626927 | MIN: 0 0 ==\n",
      "== MAX: 0 0 | MIN: DYM/USDT -0.16084997587370864 ==\n",
      "== MAX: MANTA/USDT 0.11365185503199066 | MIN: 0 0 ==\n",
      "== MAX: TIA/USDT 0.16762115007868192 | MIN: 0 0 ==\n",
      "== MAX: 0 0 | MIN: BEAMX/USDT -0.19052781795078877 ==\n",
      "== MAX: 0 0 | MIN: AXL/USDT -0.14195034692365627 ==\n",
      "== MAX: TIA/USDT 0.3132072144983109 | MIN: 0 0 ==\n",
      "== MAX: KEY/USDT 0.20660878003845184 | MIN: 0 0 ==\n",
      "== MAX: MINA/USDT 0.2477278320720778 | MIN: 0 0 ==\n",
      "== MAX: 0 0 | MIN: AXL/USDT -0.23243370684969444 ==\n",
      "== MAX: 0 0 | MIN: MANTA/USDT -0.1116553229975549 ==\n",
      "== MAX: AXL/USDT 0.11926596607034512 | MIN: 0 0 ==\n",
      "== MAX: 0 0 | MIN: TIA/USDT -0.14856949123553614 ==\n",
      "== MAX: DAR/USDT 0.1858884356677737 | MIN: 0 0 ==\n",
      "== MAX: AXL/USDT 0.15356918222775315 | MIN: 0 0 ==\n",
      "== MAX: DAR/USDT 0.21599239120671257 | MIN: 0 0 ==\n",
      "== MAX: 0 0 | MIN: AXL/USDT -0.20920994383521008 ==\n",
      "== MAX: 0 0 | MIN: MANTA/USDT -0.1685438516423185 ==\n",
      "== MAX: KEY/USDT 0.11478474059495239 | MIN: 0 0 ==\n",
      "== MAX: DAR/USDT 0.6840399427288677 | MIN: 0 0 ==\n",
      "== MAX: DAR/USDT 0.48138459091856234 | MIN: 0 0 ==\n",
      "== MAX: TIA/USDT 0.14232157128360803 | MIN: 0 0 ==\n",
      "== MAX: DAR/USDT 0.19066770442885309 | MIN: 0 0 ==\n",
      "== MAX: BEAMX/USDT 0.1829310615945654 | MIN: 0 0 ==\n",
      "== MAX: DAR/USDT 0.23166901170529652 | MIN: 0 0 ==\n",
      "== MAX: DAR/USDT 0.21019886189331025 | MIN: 0 0 ==\n",
      "== MAX: DAR/USDT 0.3292527505737815 | MIN: 0 0 ==\n",
      "0.17686984226864982\n"
     ]
    }
   ],
   "source": [
    "sl, tp = -10, 10\n",
    "t = 20\n",
    "lev = 10\n",
    "pnls = []\n",
    "episode = 10\n",
    "\n",
    "for t in range(20, 1400, 10):\n",
    "    time_i, open_price, close_price, pnl, sym, position = run(t, sl, tp, lev)\n",
    "    pnls.append(pnl)\n",
    "    # if pnl != 0:\n",
    "    #     show_default_graph(past_df_dic[sym]['mean'], t, time_i, open_price, close_price, position, title=f\"{sym}  PNL: {pnl}%\")\n",
    "print(np.mean(pnls))"
   ]
  },
  {
   "cell_type": "code",
   "execution_count": 209,
   "metadata": {},
   "outputs": [
    {
     "name": "stdout",
     "output_type": "stream",
     "text": [
      "Total PNL: 24.408038233073675%,    # of good pred: 39,    bad pred: 36\n"
     ]
    },
    {
     "data": {
      "text/plain": [
       "76.76315506363336"
      ]
     },
     "execution_count": 209,
     "metadata": {},
     "output_type": "execute_result"
    }
   ],
   "source": [
    "pnls = np.array(pnls)\n",
    "print(f\"Total PNL: {np.sum(pnls)}%,    # of good pred: {np.sum(np.where(pnls>0, 1, 0))},    bad pred: {np.sum(np.where(pnls<0, 1, 0))}\")\n",
    "simul(pnls)"
   ]
  },
  {
   "cell_type": "code",
   "execution_count": null,
   "metadata": {},
   "outputs": [],
   "source": []
  },
  {
   "cell_type": "code",
   "execution_count": null,
   "metadata": {},
   "outputs": [],
   "source": []
  }
 ],
 "metadata": {
  "kernelspec": {
   "display_name": "ldm",
   "language": "python",
   "name": "python3"
  },
  "language_info": {
   "codemirror_mode": {
    "name": "ipython",
    "version": 3
   },
   "file_extension": ".py",
   "mimetype": "text/x-python",
   "name": "python",
   "nbconvert_exporter": "python",
   "pygments_lexer": "ipython3",
   "version": "3.8.19"
  }
 },
 "nbformat": 4,
 "nbformat_minor": 2
}
