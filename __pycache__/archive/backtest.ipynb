{
 "cells": [
  {
   "cell_type": "code",
   "execution_count": 1,
   "metadata": {},
   "outputs": [],
   "source": [
    "%load_ext autoreload\n",
    "%autoreload 2\n",
    "\n",
    "import numpy as np\n",
    "import time\n",
    "import utils\n",
    "from utils import *\n",
    "import os\n",
    "import importlib\n",
    "import argparse\n",
    "import trader   # 파일 수정 반영\n",
    "import matplotlib.pyplot as plt"
   ]
  },
  {
   "cell_type": "code",
   "execution_count": 2,
   "metadata": {},
   "outputs": [],
   "source": [
    "binance = get_binance()"
   ]
  },
  {
   "cell_type": "code",
   "execution_count": 3,
   "metadata": {},
   "outputs": [],
   "source": [
    "tf = \"1m\"\n",
    "limit = 1500\n",
    "past_df_dic = {}\n",
    "new_symlist = []\n",
    "for sym in SYMLIST[0:50]:\n",
    "    vol = await binance.fetch_tickers(symbols=[sym])\n",
    "    if (not len(list(vol.values())) > 0) or list(vol.values())[0]['quoteVolume'] < 20*(10**6):\n",
    "        continue\n",
    "    df = await past_data(binance, sym, tf, limit)\n",
    "    df[\"mean\"] = np.mean([df[\"open\"], df[\"high\"], df[\"low\"], df[\"close\"]], axis=0)\n",
    "    past_df_dic.update({sym: df})\n",
    "    new_symlist.append(sym)"
   ]
  },
  {
   "cell_type": "code",
   "execution_count": 64,
   "metadata": {},
   "outputs": [],
   "source": [
    "def bull_or_bear(df,ref=0.01):\n",
    "    m = (df['high']+df['low'])/2  # df['close']로 해도 되는데 그냥 이렇게 함\n",
    "    rising = []\n",
    "    for i in range(1, len(m)-1):\n",
    "        rising.append((m[i+1] - m[i])/m[i]*100)\n",
    "    rising_coef = np.mean(rising)\n",
    "    \n",
    "    if rising_coef > ref:\n",
    "        return \"BULL\", rising_coef\n",
    "    elif rising_coef < -ref:\n",
    "        return \"BEAR\", rising_coef\n",
    "    else:\n",
    "        return \"ZZ\", rising_coef\n",
    "    \n",
    "def inspect_market(df, block):\n",
    "    st1, score1 = bull_or_bear(df[int(block/4):])\n",
    "    st2, score2 = bull_or_bear(df)\n",
    "    score = score1\n",
    "    \n",
    "    if st2 == 'BEAR' and st1 == \"BULL\":\n",
    "        return LONG, score\n",
    "    elif st2 == 'BULL' and st1 == \"BEAR\":         # 4시간동안 상승\n",
    "        return SHORT, score\n",
    "    return None, 0"
   ]
  },
  {
   "cell_type": "code",
   "execution_count": 65,
   "metadata": {},
   "outputs": [],
   "source": [
    "def select_sym(t, block):\n",
    "    max_score, min_score = 0,0\n",
    "    max_sym, min_sym = 0,0\n",
    "    for sym in new_symlist:\n",
    "        df = past_df_dic[sym][t-block:t]\n",
    "        position, score = inspect_market(df, block)\n",
    "        \n",
    "        if score > max_score:\n",
    "            max_score, max_sym = score, sym\n",
    "        elif score < min_score:\n",
    "            min_score, min_sym = score, sym\n",
    "\n",
    "    if (abs(max_score) > 0 or abs(min_score) > 0 ) and position:\n",
    "        print(f\"== MAX: {max_sym} {max_score} | MIN: {min_sym} {min_score} ==\")\n",
    "        if abs(max_score) > abs(min_score):\n",
    "            return max_sym, position\n",
    "        else:\n",
    "            return min_sym, position \n",
    "    return None, None"
   ]
  },
  {
   "cell_type": "code",
   "execution_count": 66,
   "metadata": {},
   "outputs": [],
   "source": [
    "\n",
    "def get_pnl(open_price, price):\n",
    "    return (price - open_price)/open_price\n",
    "\n",
    "def run(t, sl, tp, lev, block):\n",
    "    sym, position = select_sym(t, block)\n",
    "    if not sym and not position:\n",
    "        return 0,0,0,0,0,0\n",
    "    sym_df = past_df_dic[sym]['mean'][t:]\n",
    "\n",
    "    open_price = sym_df[0]\n",
    "    \n",
    "    for i, mean_price in enumerate(sym_df[1:]):\n",
    "        coef = 1 if position == \"Long\" else -1\n",
    "        pnl = get_pnl(open_price, mean_price) * lev * coef * 100 - 0.7\n",
    "        if pnl > tp or pnl < sl:\n",
    "            # print(open_price, mean_price, pnl, position)\n",
    "            return i+1, open_price, mean_price, pnl, sym, position\n",
    "        \n",
    "    return 0,0,0,0,0,0\n",
    "        \n",
    "def show_default_graph(df, t, time_i, open_price, close_price, position, title=\"\"):\n",
    "    plt.style.use('fivethirtyeight')\n",
    "    fig, ax = plt.subplots(figsize = (12,6))\n",
    "\n",
    "    x = len(df)\n",
    "    \n",
    "    ax.plot(range(x), df, color = (1, 0.7, 0), linewidth = 2, label='mean price')\n",
    "        \n",
    "    color = 'b' if position == 'Short' else 'r'\n",
    "    ax.add_patch(plt.Arrow(\n",
    "        t, open_price, time_i, close_price-open_price,\n",
    "        width = (close_price-open_price)*2, color=color, zorder=2, alpha=0.5\n",
    "    ))\n",
    "        \n",
    "    ax.set_xlabel('Date')\n",
    "    ax.set_ylabel('Price ($)')\n",
    "\n",
    "    ax.set_title(title)\n",
    "    os.makedirs(\"backtest_result\", exist_ok=True)\n",
    "    plt.savefig(f\"backtest_result/{t}.jpg\")\n",
    "    return ax\n",
    "\n",
    "def simul(pnls):\n",
    "    orig = 100\n",
    "    profit = 0\n",
    "    for pnl in pnls:\n",
    "        if pnl != 0:\n",
    "            # profit += orig*(pnl*0.01)\n",
    "            orig *= (1+pnl*0.01)\n",
    "    return orig+profit"
   ]
  },
  {
   "cell_type": "code",
   "execution_count": 67,
   "metadata": {},
   "outputs": [
    {
     "name": "stdout",
     "output_type": "stream",
     "text": [
      "== MAX: DYM/USDT 0.02670918432074985 | MIN: 0 0 ==\n",
      "0.0\n"
     ]
    }
   ],
   "source": [
    "sl, tp = -30, 4\n",
    "lev = 2\n",
    "pnls = []\n",
    "block = 50\n",
    "\n",
    "for t in range(block, 1500, 10):\n",
    "    time_i, open_price, close_price, pnl, sym, position = run(t, sl, tp, lev, block)\n",
    "    pnls.append(pnl)\n",
    "    if pnl != 0:\n",
    "        show_default_graph(past_df_dic[sym]['mean'], t, time_i, open_price, close_price, position, title=f\"{sym}  PNL: {pnl}%\")\n",
    "        \n",
    "print(np.mean(pnls))"
   ]
  },
  {
   "cell_type": "code",
   "execution_count": 68,
   "metadata": {},
   "outputs": [
    {
     "name": "stdout",
     "output_type": "stream",
     "text": [
      "Total PNL: 0%,    # of good pred: 0,    bad pred: 0\n"
     ]
    },
    {
     "data": {
      "text/plain": [
       "100"
      ]
     },
     "execution_count": 68,
     "metadata": {},
     "output_type": "execute_result"
    }
   ],
   "source": [
    "pnls = np.array(pnls)\n",
    "print(f\"Total PNL: {np.sum(pnls)}%,    # of good pred: {np.sum(np.where(pnls>0, 1, 0))},    bad pred: {np.sum(np.where(pnls<0, 1, 0))}\")\n",
    "simul(pnls)"
   ]
  },
  {
   "cell_type": "code",
   "execution_count": null,
   "metadata": {},
   "outputs": [],
   "source": []
  },
  {
   "cell_type": "code",
   "execution_count": null,
   "metadata": {},
   "outputs": [],
   "source": []
  },
  {
   "cell_type": "code",
   "execution_count": null,
   "metadata": {},
   "outputs": [],
   "source": []
  }
 ],
 "metadata": {
  "kernelspec": {
   "display_name": "ldm",
   "language": "python",
   "name": "python3"
  },
  "language_info": {
   "codemirror_mode": {
    "name": "ipython",
    "version": 3
   },
   "file_extension": ".py",
   "mimetype": "text/x-python",
   "name": "python",
   "nbconvert_exporter": "python",
   "pygments_lexer": "ipython3",
   "version": "3.8.19"
  }
 },
 "nbformat": 4,
 "nbformat_minor": 2
}
