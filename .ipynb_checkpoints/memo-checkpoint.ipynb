{
 "cells": [
  {
   "cell_type": "code",
   "execution_count": 1,
   "id": "c5f63f36",
   "metadata": {},
   "outputs": [],
   "source": [
    "import numpy as np"
   ]
  },
  {
   "cell_type": "code",
   "execution_count": 78,
   "id": "1d106161",
   "metadata": {},
   "outputs": [],
   "source": [
    "def guess_pnl(p1, p2, amount, pos=1, lev=1):\n",
    "    cost_r = 0.018*0.01\n",
    "    # 내가 총 내야하는 수수료 퍼센트 (본전 PNL)\n",
    "    cost_ = lev*cost_r*(p1+p2)/p1\n",
    "    cost = cost_*p1*amount\n",
    "    # 현재 profit %\n",
    "    profit_ = pos*lev*(p2-p1)/p1\n",
    "    profit = profit_*p1*amount\n",
    "    \n",
    "    pnl_ = profit_ - cost_\n",
    "    pnl = profit-cost\n",
    "    print(f\"Cost: {round(cost, 3)} ({round(cost_*100, 3)}%) \\\n",
    "\\tProfit: {round(profit, 3)} ({round(profit_*100, 3)}%) \\\n",
    "\\tPNL: {round(pnl, 3)} ({round(pnl_*100, 3)}%)\")\n",
    "    return pnl"
   ]
  },
  {
   "cell_type": "code",
   "execution_count": 79,
   "id": "8129900b",
   "metadata": {},
   "outputs": [
    {
     "name": "stdout",
     "output_type": "stream",
     "text": [
      "Cost: 0.777 (0.321%) \tProfit: -9.729 (-4.017%) \tPNL: -10.506 (-4.338%)\n",
      "Cost: 0.43 (0.32%) \tProfit: 3.35 (2.496%) \tPNL: 2.92 (2.176%)\n",
      "Cost: 0.429 (0.32%) \tProfit: -0.42 (-0.313%) \tPNL: -0.849 (-0.633%)\n"
     ]
    }
   ],
   "source": [
    "p1s = [26909, 26842, 26833.6]\n",
    "p2s = [27017.1, 26909, 26842]\n",
    "amounts = [0.009, 0.005, 0.005]\n",
    "poses = [-1, 1, -1]\n",
    "\n",
    "for i in range(3):\n",
    "    guess_pnl(p1s[i], p2s[i], amounts[i], poses[i], lev=10)"
   ]
  },
  {
   "cell_type": "code",
   "execution_count": 121,
   "id": "b43dfe01",
   "metadata": {},
   "outputs": [
    {
     "data": {
      "text/plain": [
       "0.1"
      ]
     },
     "execution_count": 121,
     "metadata": {},
     "output_type": "execute_result"
    }
   ],
   "source": [
    "p1 = 27760\n",
    "p2 = 27780\n",
    "cost_r = 0.02*0.01\n",
    "amt = 0.005\n",
    "lev = 10\n",
    "diff = (p2 - p1)*1\n",
    "diff*amt"
   ]
  },
  {
   "cell_type": "code",
   "execution_count": 122,
   "id": "168a8ea4",
   "metadata": {},
   "outputs": [
    {
     "data": {
      "text/plain": [
       "0.04446"
      ]
     },
     "execution_count": 122,
     "metadata": {},
     "output_type": "execute_result"
    }
   ],
   "source": [
    "diff*amt - cost_r*(p1 + p2)*amt"
   ]
  },
  {
   "cell_type": "code",
   "execution_count": 125,
   "id": "16156e34",
   "metadata": {},
   "outputs": [
    {
     "data": {
      "text/plain": [
       "0.07204610951008646"
      ]
     },
     "execution_count": 125,
     "metadata": {},
     "output_type": "execute_result"
    }
   ],
   "source": [
    "diff/p1*100"
   ]
  },
  {
   "cell_type": "code",
   "execution_count": null,
   "id": "d4de16fb",
   "metadata": {},
   "outputs": [],
   "source": []
  }
 ],
 "metadata": {
  "kernelspec": {
   "display_name": "Python 3 (ipykernel)",
   "language": "python",
   "name": "python3"
  },
  "language_info": {
   "codemirror_mode": {
    "name": "ipython",
    "version": 3
   },
   "file_extension": ".py",
   "mimetype": "text/x-python",
   "name": "python",
   "nbconvert_exporter": "python",
   "pygments_lexer": "ipython3",
   "version": "3.8.16"
  }
 },
 "nbformat": 4,
 "nbformat_minor": 5
}
