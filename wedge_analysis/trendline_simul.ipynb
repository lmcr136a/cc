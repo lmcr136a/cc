{
 "cells": [
  {
   "cell_type": "code",
   "execution_count": 196,
   "metadata": {},
   "outputs": [
    {
     "name": "stderr",
     "output_type": "stream",
     "text": [
      "binance requires to release all resources with an explicit call to the .close() coroutine. If you are using the exchange instance with async coroutines, add `await exchange.close()` to your code into a place when you're done with the exchange and don't need the exchange instance anymore (at the end of your async coroutine).\n",
      "Unclosed client session\n",
      "client_session: <aiohttp.client.ClientSession object at 0x7b54dd49c070>\n"
     ]
    },
    {
     "name": "stdout",
     "output_type": "stream",
     "text": [
      "The autoreload extension is already loaded. To reload it, use:\n",
      "  %reload_ext autoreload\n"
     ]
    }
   ],
   "source": [
    "%load_ext autoreload\n",
    "%autoreload 2\n",
    "\n",
    "import numpy as np\n",
    "import time\n",
    "import utils\n",
    "from utils import *\n",
    "import os\n",
    "import importlib\n",
    "import argparse\n",
    "import trader  \n",
    "import matplotlib.pyplot as plt\n",
    "from trendline_automation import *\n",
    "from wedge import *\n",
    "binance = get_binance()"
   ]
  },
  {
   "cell_type": "code",
   "execution_count": 231,
   "metadata": {},
   "outputs": [],
   "source": [
    "tf = \"3m\"\n",
    "sym = \"BTC/USDT\"\n",
    "limit = 200\n",
    "time_df = await past_data(binance, sym, tf, limit)"
   ]
  },
  {
   "cell_type": "code",
   "execution_count": 232,
   "metadata": {},
   "outputs": [],
   "source": [
    "df = time_df.copy()\n",
    "# df.index = df.apply(lambda x: int(x.name.timestamp()), axis=1)\n",
    "df.reset_index(drop=False, inplace=True)\n",
    "\n",
    "df[\"Pivot\"] = 0\n",
    "\n",
    "# Get the minimas and maximas \n",
    "df[\"Pivot\"]    = df.apply(lambda x: pivot_id(df, x.name, 7, 7), axis=1)\n",
    "df['PointPos'] = df.apply(lambda x: pivot_point_position(x), axis=1) # Used for visualising the pivot points\n",
    "\n",
    "df = add_RSI(df)"
   ]
  },
  {
   "cell_type": "code",
   "execution_count": 233,
   "metadata": {},
   "outputs": [
    {
     "name": "stdout",
     "output_type": "stream",
     "text": [
      "3 Candidates\n",
      "Triangular Convergence - ascending\n",
      "Triangular Convergence - ascending\n"
     ]
    },
    {
     "name": "stderr",
     "output_type": "stream",
     "text": [
      "/mnt/Data1/nhkim/object-detection-data-augmentation/cc/trendline_automation.py:373: SettingWithCopyWarning: \n",
      "A value is trying to be set on a copy of a slice from a DataFrame.\n",
      "Try using .loc[row_indexer,col_indexer] = value instead\n",
      "\n",
      "See the caveats in the documentation: https://pandas.pydata.org/pandas-docs/stable/user_guide/indexing.html#returning-a-view-versus-a-copy\n",
      "  if \"Triangular\" in pattern:\n"
     ]
    },
    {
     "data": {
      "text/plain": [
       "<Figure size 1700x1000 with 0 Axes>"
      ]
     },
     "metadata": {},
     "output_type": "display_data"
    }
   ],
   "source": [
    "t_block = 1500\n",
    "imgname = 0\n",
    "# time_df[\"PointPos\"] = df[\"PointPos\"]\n",
    "for t in range(0, limit, 50):\n",
    "    t_df = df[t: t+t_block]\n",
    "    t_df.reset_index(drop=True, inplace=True)\n",
    "    # save_trendline_img(t_df, imgname)\n",
    "    save_wedgeline_img(t_df, imgname)\n",
    "    imgname += 1\n",
    "    \n",
    "    break\n",
    "    "
   ]
  },
  {
   "cell_type": "code",
   "execution_count": 243,
   "metadata": {},
   "outputs": [
    {
     "data": {
      "text/plain": [
       "<Figure size 1700x1000 with 0 Axes>"
      ]
     },
     "metadata": {},
     "output_type": "display_data"
    }
   ],
   "source": [
    "from wedge_analysis import realtime_analysis\n",
    "\n",
    "random.shuffle(SYMLIST)\n",
    "for i, sym in enumerate(SYMLIST): \n",
    "    res = await realtime_analysis(sym)\n",
    "    if res:\n",
    "        print(res)"
   ]
  },
  {
   "cell_type": "code",
   "execution_count": null,
   "metadata": {},
   "outputs": [],
   "source": []
  },
  {
   "cell_type": "code",
   "execution_count": null,
   "metadata": {},
   "outputs": [],
   "source": []
  },
  {
   "cell_type": "code",
   "execution_count": null,
   "metadata": {},
   "outputs": [],
   "source": []
  }
 ],
 "metadata": {
  "kernelspec": {
   "display_name": "ldm",
   "language": "python",
   "name": "python3"
  },
  "language_info": {
   "codemirror_mode": {
    "name": "ipython",
    "version": 3
   },
   "file_extension": ".py",
   "mimetype": "text/x-python",
   "name": "python",
   "nbconvert_exporter": "python",
   "pygments_lexer": "ipython3",
   "version": "3.8.19"
  }
 },
 "nbformat": 4,
 "nbformat_minor": 2
}
